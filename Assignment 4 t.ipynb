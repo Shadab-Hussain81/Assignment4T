{
 "cells": [
  {
   "cell_type": "markdown",
   "id": "778f1b33-fd27-464b-9655-589a14ebb1e5",
   "metadata": {},
   "source": [
    "Que 1. What exactly is []?"
   ]
  },
  {
   "cell_type": "markdown",
   "id": "83829a4e-0387-475a-a747-86097ea3bc90",
   "metadata": {},
   "source": [
    "Ans A list is a data structure that can hold an ordered collection of elements. It can be empty, meaning it contains no elements. When you see \"[]\", it signifies an empty list with no items inside."
   ]
  },
  {
   "cell_type": "code",
   "execution_count": 1,
   "id": "1d5bc276-e45b-4fa1-bb52-18c8dd8a1af2",
   "metadata": {},
   "outputs": [],
   "source": [
    "#EXAMPLE\n",
    "my_list = []"
   ]
  },
  {
   "cell_type": "markdown",
   "id": "a49236d8-c066-466b-8b81-3053242265fe",
   "metadata": {},
   "source": [
    "Que 2. In a list of values stored in a variable called spam, how would you assign the value &#39;hello&#39; as the\n",
    "third value? (Assume [2, 4, 6, 8, 10] are in spam.)\n",
    "Lets pretend the spam includes the list['a','b','c','d',] for the next three queries."
   ]
  },
  {
   "cell_type": "code",
   "execution_count": 6,
   "id": "1695a11b-2360-49a7-bb0f-9c0292558803",
   "metadata": {},
   "outputs": [
    {
     "name": "stdout",
     "output_type": "stream",
     "text": [
      "[2, 4, 'hello', 8, 10]\n"
     ]
    }
   ],
   "source": [
    "spam = [2, 4, 6, 8, 10]  # Original list\n",
    "spam[2] = 'hello'# Assign 'hello' as the third value\n",
    "print(spam)"
   ]
  },
  {
   "cell_type": "markdown",
   "id": "fd28a6b8-d67e-4141-8cda-66c135f8721c",
   "metadata": {},
   "source": [
    "Que 3. What is the value of spam[int(int('3'*2)/11)]?"
   ]
  },
  {
   "cell_type": "markdown",
   "id": "e5f5391a-ed17-4c52-959b-a1ffc31f053b",
   "metadata": {},
   "source": [
    "Ans 3'*2 evaluates to the string '33'.\n",
    "int('33') converts the string '33' into an integer with the value 33.\n",
    "11 divides 33, resulting in the integer quotient 3.\n",
    "spam[3] accesses the element at index 3 in the spam list."
   ]
  },
  {
   "cell_type": "markdown",
   "id": "21bae912-498f-430e-8374-d2877ed54736",
   "metadata": {},
   "source": [
    "Que 4. What is the value of spam[-1]?"
   ]
  },
  {
   "cell_type": "markdown",
   "id": "f9c09e51-f7eb-494c-807a-b762b5bb01f0",
   "metadata": {},
   "source": [
    "ANS If spam is a list, spam[-1] would refer to the last element in the list. For example, if spam = [1, 2, 3, 4], then spam[-1] would be equal to 4.\n",
    "\n",
    "If spam is a string, spam[-1] would refer to the last character in the string. For example, if spam = \"Hello\", then spam[-1] would be equal to 'o'."
   ]
  },
  {
   "cell_type": "markdown",
   "id": "aadc9094-79e1-4c50-96a3-9f123c234fc1",
   "metadata": {},
   "source": [
    "Que 5. What is the value of spam[:2]?\n",
    "Letpretend bacon has the list [3.14, 'cat',11,'cat', True] for the next three questions.\n"
   ]
  },
  {
   "cell_type": "markdown",
   "id": "93dad188-6039-422e-af6d-f02f70888a8f",
   "metadata": {},
   "source": [
    "Based on the given list \"bacon\" [3.14, 'cat', 11, 'cat', True], the expression \"spam[:2]\" is not defined. It seems that there was a mix-up with the variable names. If you intended to refer to the list \"bacon\" instead of \"spam,\" then \"bacon[:2]\" would represent the sublist that includes the first two elements of the list \"bacon.\"Ans "
   ]
  },
  {
   "cell_type": "markdown",
   "id": "8efbc20d-b75a-4b5c-8f35-91cede58f8db",
   "metadata": {},
   "source": [
    "Que 6. What is the value of bacon.index('cat')?"
   ]
  },
  {
   "cell_type": "markdown",
   "id": "43a00d3f-6b3c-4d4e-bead-6b3b74e4d2f3",
   "metadata": {},
   "source": [
    "Ans The expression bacon.index('cat') would return an error because the index() method is used to find the index of a specified element within a list, and the bacon variable you mentioned seems to be undefined in the current context. If you provide more information about the bacon list or the code you're referring to, I can help you further.\n",
    "\n",
    "\n",
    "\n",
    "\n"
   ]
  },
  {
   "cell_type": "markdown",
   "id": "d4d33bcd-2dc1-41fd-919e-760f53febad7",
   "metadata": {},
   "source": [
    "Que 7. How does bacon.append(99) change the look of the list value in bacon?"
   ]
  },
  {
   "cell_type": "markdown",
   "id": "02a51b87-0126-4fc0-ad75-3a34acf0293d",
   "metadata": {},
   "source": [
    "Ans The statement bacon.append(99) will add the value 99 to the end of the list bacon. If we assume that bacon initially contains the values [0, 1, 2, 3, 4, 5], after executing bacon.append(99), the new list bacon will look like [0, 1, 2, 3, 4, 5, 99]. The append() method in Python is used to add an element to the end of a list, and in this case, it appends the value 99 to the existing bacon list."
   ]
  },
  {
   "cell_type": "markdown",
   "id": "d0fe7ece-429d-4614-bf66-bb0428e6de82",
   "metadata": {},
   "source": [
    "Que 8. How does bacon.remove('cat') change the look of the list in bacon?"
   ]
  },
  {
   "cell_type": "markdown",
   "id": "b9211db5-79ef-48a8-a9ba-281a061fb430",
   "metadata": {},
   "source": [
    "Ans The code bacon.remove('cat') will remove the element 'cat' from the list bacon, if it exists. If the list bacon contains the element 'cat', it will be removed, and the list will be modified accordingly. However, if 'cat' is not present in the list bacon, the code will raise a ValueError since it cannot remove an element that does not exist."
   ]
  },
  {
   "cell_type": "markdown",
   "id": "fde5e336-fc22-4d34-9485-cc0b37de43fd",
   "metadata": {},
   "source": [
    "Que 9. What are the list concatenation and list replication operators?"
   ]
  },
  {
   "cell_type": "markdown",
   "id": "aa7ec276-447e-49ef-9e05-d119c0adfe47",
   "metadata": {},
   "source": [
    "Ans List Concatenation Operator (+):\n",
    "The plus operator allows you to concatenate two or more lists, combining their elements into a single list. It creates a new list containing all the elements from the original lists in the order they appear."
   ]
  },
  {
   "cell_type": "code",
   "execution_count": 8,
   "id": "790fb1cc-c98b-4453-b700-edb9b63f38a0",
   "metadata": {},
   "outputs": [
    {
     "name": "stdout",
     "output_type": "stream",
     "text": [
      "[1, 2, 3, 4, 5, 6]\n"
     ]
    }
   ],
   "source": [
    "#EXAMPLE\n",
    "list1 = [1, 2, 3]\n",
    "list2 = [4, 5, 6]\n",
    "concatenated_list = list1 + list2\n",
    "print(concatenated_list)"
   ]
  },
  {
   "cell_type": "markdown",
   "id": "ecbc16b9-1bc3-41d9-80f7-b22da9fb7654",
   "metadata": {},
   "source": [
    "List Replication Operator (*):\n",
    "The asterisk operator allows you to replicate a list by a specified number of times. It creates a new list by repeating the elements of the original list the given number of times."
   ]
  },
  {
   "cell_type": "code",
   "execution_count": 9,
   "id": "33b22741-f992-4291-8aff-cf9a017f25d6",
   "metadata": {},
   "outputs": [
    {
     "name": "stdout",
     "output_type": "stream",
     "text": [
      "[1, 2, 3, 1, 2, 3, 1, 2, 3]\n"
     ]
    }
   ],
   "source": [
    "#EXAMPLE\n",
    "original_list = [1, 2, 3]\n",
    "replicated_list = original_list * 3\n",
    "print(replicated_list)"
   ]
  },
  {
   "cell_type": "markdown",
   "id": "32e55b8e-e93d-44d4-86f8-c7b30156f83d",
   "metadata": {},
   "source": [
    "Que10. What is difference between the list methods append() and insert()?"
   ]
  },
  {
   "cell_type": "markdown",
   "id": "2268d8b3-c7dc-4976-b473-0afd63b72dd2",
   "metadata": {},
   "source": [
    "Ans append() method: This method is used to add an element at the end of a list. It takes a single argument, which is the element you want to add to the list. The append() method modifies the list in place by adding the element to the end."
   ]
  },
  {
   "cell_type": "code",
   "execution_count": 10,
   "id": "7659f0a7-c3de-4316-a72f-302b7f03e3e6",
   "metadata": {},
   "outputs": [
    {
     "name": "stdout",
     "output_type": "stream",
     "text": [
      "[1, 2, 3, 4]\n"
     ]
    }
   ],
   "source": [
    "#example of using the append() method:\n",
    "my_list = [1, 2, 3]\n",
    "my_list.append(4)\n",
    "print(my_list)  # Output: [1, 2, 3, 4]"
   ]
  },
  {
   "cell_type": "markdown",
   "id": "da67caf6-4dc4-4342-9511-183ec9733f12",
   "metadata": {},
   "source": [
    "insert() method: This method is used to insert an element at a specific position in the list. It takes two arguments: the index where you want to insert the element, and the element itself. The insert() method modifies the list in place by shifting the existing elements to make room for the new element."
   ]
  },
  {
   "cell_type": "code",
   "execution_count": 11,
   "id": "76162e57-be68-4de3-9ff2-53ca03fdecb3",
   "metadata": {},
   "outputs": [
    {
     "name": "stdout",
     "output_type": "stream",
     "text": [
      "[1, 4, 2, 3]\n"
     ]
    }
   ],
   "source": [
    "# example of using the insert() method:\n",
    "my_list = [1, 2, 3]\n",
    "my_list.insert(1, 4)\n",
    "print(my_list)  # Output: [1, 4, 2, 3]"
   ]
  },
  {
   "cell_type": "markdown",
   "id": "53cb7a91-2651-4894-bca8-38b443aef1e5",
   "metadata": {},
   "source": [
    "Que11. What are the two methods for removing items from a list?"
   ]
  },
  {
   "cell_type": "markdown",
   "id": "6d06a545-c3bf-4fea-95fa-6709dadedce3",
   "metadata": {},
   "source": [
    "Using the remove() method:\n",
    "The remove() method is used to remove the first occurrence of a specified item from a list. It takes the value of the item as an argument and removes the item if it exists in the list. If the item is not found, it raises a ValueError."
   ]
  },
  {
   "cell_type": "code",
   "execution_count": 12,
   "id": "c1e423ed-b43b-478a-9f46-d9a0be25f3cd",
   "metadata": {},
   "outputs": [
    {
     "name": "stdout",
     "output_type": "stream",
     "text": [
      "[1, 2, 4, 5]\n"
     ]
    }
   ],
   "source": [
    "my_list = [1, 2, 3, 4, 5]\n",
    "my_list.remove(3)\n",
    "print(my_list)  # Output: [1, 2, 4, 5]"
   ]
  },
  {
   "cell_type": "markdown",
   "id": "eb7ebd6f-9f6d-4797-b96a-f45c6c263aa6",
   "metadata": {},
   "source": [
    "Using the del statement:\n",
    "The del statement allows you to remove an item from a list by its index. You specify the index of the item you want to remove, and del deletes that item from the list, shifting the elements to fill the gap."
   ]
  },
  {
   "cell_type": "code",
   "execution_count": 13,
   "id": "d641b23f-95f2-441a-80dc-9f04e7f5b9f9",
   "metadata": {},
   "outputs": [
    {
     "name": "stdout",
     "output_type": "stream",
     "text": [
      "[1, 2, 4, 5]\n"
     ]
    }
   ],
   "source": [
    "my_list = [1, 2, 3, 4, 5]\n",
    "del my_list[2]\n",
    "print(my_list)  # Output: [1, 2, 4, 5]"
   ]
  },
  {
   "cell_type": "markdown",
   "id": "e22ac4fc-c10b-4876-83c5-04211493bff1",
   "metadata": {},
   "source": [
    "Que12. Describe how list values and string values are identical."
   ]
  },
  {
   "cell_type": "markdown",
   "id": "65ddfab5-d014-4fb5-b712-ecc7a434a32f",
   "metadata": {},
   "source": [
    "Ans 1.Sequences: Both lists and strings are considered sequences of elements. They can be accessed and manipulated using indexing and slicing operations.\n",
    "\n",
    "2.Indexing: Elements within a list or a string can be accessed by their index positions. In many programming languages, the index starts from 0, meaning the first element is at index 0, the second at index 1, and so on.\n",
    "\n",
    "3.Iteration: Both lists and strings can be iterated over using loops or other iteration mechanisms. This allows you to access each element or character within them.\n",
    "\n",
    "4.Concatenation: Lists and strings can be concatenated, or joined together, to create a new list or string respectively. For example, ['a', 'b'] + ['c', 'd'] results in ['a', 'b', 'c', 'd'], and \"Hello\" + \" World\" results in \"Hello World\".\n",
    "\n",
    "5.Length: You can determine the length of a list or a string using the len() function. It returns the number of elements in a list or the number of characters in a string.\n",
    "\n",
    "6.Slicing: Both lists and strings support slicing, which allows you to extract a portion of the sequence by specifying a range of indices. This can be useful for accessing subsets of elements or characters."
   ]
  },
  {
   "cell_type": "markdown",
   "id": "a797d92c-8f75-44e7-a46f-c1713a8c1a8f",
   "metadata": {},
   "source": [
    "Que 13. What's the difference between tuples and lists?"
   ]
  },
  {
   "cell_type": "markdown",
   "id": "5596b01c-0c21-43df-9226-fd085a9c100b",
   "metadata": {},
   "source": [
    "Mutability: Tuples are immutable, which means their elements cannot be modified after creation. Once a tuple is created, you cannot add, remove, or modify its elements. In contrast, lists are mutable, allowing you to add, remove, or modify elements freely.\n",
    "\n",
    "Syntax: Tuples are defined using parentheses () or without any delimiters, separating elements with commas. For example, (1, 2, 3) or 1, 2, 3 are valid tuples. Lists, on the other hand, are defined using square brackets []. For example, [1, 2, 3] is a valid list.\n",
    "\n",
    "Performance: Tuples are generally more memory-efficient and faster to access than lists. Since tuples are immutable, Python can optimize their storage and perform certain operations more efficiently. Lists, being mutable, require additional memory allocations and overhead for dynamic resizing.\n",
    "\n",
    "Usage: Tuples are typically used for collections of heterogeneous data, where each element has a specific meaning or represents a different entity. For example, storing coordinates as (x, y) or representing a person's information as ('John', 25, 'USA'). Lists, on the other hand, are commonly used for collections of homogeneous data, where elements are of the same type and order matters. For example, a list of numbers [1, 2, 3] or a list of names ['Alice', 'Bob', 'Charlie'].\n",
    "\n",
    "Common Operations: Both tuples and lists support common operations like indexing and slicing. However, since tuples are immutable, you cannot use operations that modify elements, such as appending or removing items. Lists have additional methods like append(), extend(), and remove() that allow for dynamic changes.Ans "
   ]
  },
  {
   "cell_type": "markdown",
   "id": "a7e0e2b4-976a-4b25-8ac1-518f35d68803",
   "metadata": {},
   "source": [
    "Que 14. How do you type a tuple value that only contains the integer 42?"
   ]
  },
  {
   "cell_type": "code",
   "execution_count": 14,
   "id": "54474816-2e4c-4a98-99a8-3d35741295cb",
   "metadata": {},
   "outputs": [],
   "source": [
    "my_tuple = (42,)"
   ]
  },
  {
   "cell_type": "markdown",
   "id": "600cbb99-5dba-4441-9815-5b95c5bdcf49",
   "metadata": {},
   "source": [
    "Que 15. How do you get a list value&#39;s tuple form? How do you get a tuple value&#39;s list form?"
   ]
  },
  {
   "cell_type": "code",
   "execution_count": 15,
   "id": "14220278-fb07-4e50-9d1f-6c5ba9e6a12d",
   "metadata": {},
   "outputs": [
    {
     "name": "stdout",
     "output_type": "stream",
     "text": [
      "(1, 2, 3, 4, 5)\n"
     ]
    }
   ],
   "source": [
    "my_list = [1, 2, 3, 4, 5]\n",
    "my_tuple = tuple(my_list)\n",
    "print(my_tuple)"
   ]
  },
  {
   "cell_type": "markdown",
   "id": "a981a442-62f9-46fd-a954-77409d90a6af",
   "metadata": {},
   "source": [
    "Que 16. Variables that &quot;contain&quot; list values are not necessarily lists themselves. Instead, what do they\n",
    "contain?"
   ]
  },
  {
   "cell_type": "markdown",
   "id": "fc8ad0b6-f85d-4643-bbdd-1ef3a32b169c",
   "metadata": {},
   "source": [
    "Ans Variables that \"contain\" list values in programming languages are typically references or pointers to the memory location where the list is stored. In other words, the variables store the memory address of the list rather than directly containing the list itself.\n",
    "\n",
    "When a variable is assigned a list value, it points to the memory location where the list data is stored. This allows multiple variables to refer to the same list without duplicating the entire list in memory. Modifying the list through one variable will be reflected in all variables that reference the same list."
   ]
  },
  {
   "cell_type": "markdown",
   "id": "71721bc4-1ce8-4b07-8e74-4e6ca5e6605a",
   "metadata": {},
   "source": [
    "Que 17. How do you distinguish between copy.copy() and copy.deepcopy()?"
   ]
  },
  {
   "cell_type": "markdown",
   "id": "71591547-2a18-4edf-a73f-644763c62250",
   "metadata": {},
   "source": [
    "Ans copy.copy(): This function creates a shallow copy of an object. A shallow copy creates a new object and populates it with references to the child objects found in the original. It means that changes made to the child objects in either the original or the copy will affect both. However, the object itself is duplicated, so modifications made directly to the original object will not affect the copy.\n",
    "\n",
    "copy.deepcopy(): This function creates a deep copy of an object. A deep copy creates a completely independent object with its own copies of all the child objects. Any changes made to the original object or its copy will not affect each other. All nested objects are recursively copied, including the nested objects inside them, and so on."
   ]
  },
  {
   "cell_type": "code",
   "execution_count": null,
   "id": "e0a185f8-e8c7-4620-abfd-f7de40e63336",
   "metadata": {},
   "outputs": [],
   "source": []
  }
 ],
 "metadata": {
  "kernelspec": {
   "display_name": "Python 3 (ipykernel)",
   "language": "python",
   "name": "python3"
  },
  "language_info": {
   "codemirror_mode": {
    "name": "ipython",
    "version": 3
   },
   "file_extension": ".py",
   "mimetype": "text/x-python",
   "name": "python",
   "nbconvert_exporter": "python",
   "pygments_lexer": "ipython3",
   "version": "3.10.6"
  }
 },
 "nbformat": 4,
 "nbformat_minor": 5
}
